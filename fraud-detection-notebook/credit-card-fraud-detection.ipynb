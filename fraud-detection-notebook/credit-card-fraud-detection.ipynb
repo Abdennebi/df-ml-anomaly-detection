{
 "cells": [
  {
   "cell_type": "code",
   "execution_count": 6,
   "metadata": {
    "collapsed": true,
    "jupyter": {
     "outputs_hidden": true
    }
   },
   "outputs": [],
   "source": [
    "import uuid\n",
    "import itertools\n",
    "import numpy as np\n",
    "import pandas as pd\n",
    "import tensorflow as tf\n",
    "import json\n",
    "import matplotlib.pyplot as plt\n",
    "from sklearn.utils import shuffle\n",
    "from sklearn.metrics import confusion_matrix"
   ]
  },
  {
   "cell_type": "code",
   "execution_count": 24,
   "metadata": {},
   "outputs": [
    {
     "name": "stdout",
     "output_type": "stream",
     "text": [
      "Copying gs://financial_fraud_detection/fraud_data_kaggle.csv...\n",
      "/ [1 files][470.7 MiB/470.7 MiB]                                                \n",
      "Operation completed over 1 objects/470.7 MiB.                                    \n"
     ]
    },
    {
     "data": {
      "text/html": [
       "<div>\n",
       "<style scoped>\n",
       "    .dataframe tbody tr th:only-of-type {\n",
       "        vertical-align: middle;\n",
       "    }\n",
       "\n",
       "    .dataframe tbody tr th {\n",
       "        vertical-align: top;\n",
       "    }\n",
       "\n",
       "    .dataframe thead th {\n",
       "        text-align: right;\n",
       "    }\n",
       "</style>\n",
       "<table border=\"1\" class=\"dataframe\">\n",
       "  <thead>\n",
       "    <tr style=\"text-align: right;\">\n",
       "      <th></th>\n",
       "      <th>step</th>\n",
       "      <th>type</th>\n",
       "      <th>amount</th>\n",
       "      <th>nameOrig</th>\n",
       "      <th>oldbalanceOrg</th>\n",
       "      <th>newbalanceOrig</th>\n",
       "      <th>nameDest</th>\n",
       "      <th>oldbalanceDest</th>\n",
       "      <th>newbalanceDest</th>\n",
       "      <th>isFraud</th>\n",
       "      <th>isFlaggedFraud</th>\n",
       "    </tr>\n",
       "  </thead>\n",
       "  <tbody>\n",
       "    <tr>\n",
       "      <th>0</th>\n",
       "      <td>1</td>\n",
       "      <td>PAYMENT</td>\n",
       "      <td>9839.64</td>\n",
       "      <td>C1231006815</td>\n",
       "      <td>170136.0</td>\n",
       "      <td>160296.36</td>\n",
       "      <td>M1979787155</td>\n",
       "      <td>0.0</td>\n",
       "      <td>0.0</td>\n",
       "      <td>0</td>\n",
       "      <td>0</td>\n",
       "    </tr>\n",
       "    <tr>\n",
       "      <th>1</th>\n",
       "      <td>1</td>\n",
       "      <td>PAYMENT</td>\n",
       "      <td>1864.28</td>\n",
       "      <td>C1666544295</td>\n",
       "      <td>21249.0</td>\n",
       "      <td>19384.72</td>\n",
       "      <td>M2044282225</td>\n",
       "      <td>0.0</td>\n",
       "      <td>0.0</td>\n",
       "      <td>0</td>\n",
       "      <td>0</td>\n",
       "    </tr>\n",
       "    <tr>\n",
       "      <th>2</th>\n",
       "      <td>1</td>\n",
       "      <td>TRANSFER</td>\n",
       "      <td>181.00</td>\n",
       "      <td>C1305486145</td>\n",
       "      <td>181.0</td>\n",
       "      <td>0.00</td>\n",
       "      <td>C553264065</td>\n",
       "      <td>0.0</td>\n",
       "      <td>0.0</td>\n",
       "      <td>1</td>\n",
       "      <td>0</td>\n",
       "    </tr>\n",
       "    <tr>\n",
       "      <th>3</th>\n",
       "      <td>1</td>\n",
       "      <td>CASH_OUT</td>\n",
       "      <td>181.00</td>\n",
       "      <td>C840083671</td>\n",
       "      <td>181.0</td>\n",
       "      <td>0.00</td>\n",
       "      <td>C38997010</td>\n",
       "      <td>21182.0</td>\n",
       "      <td>0.0</td>\n",
       "      <td>1</td>\n",
       "      <td>0</td>\n",
       "    </tr>\n",
       "    <tr>\n",
       "      <th>4</th>\n",
       "      <td>1</td>\n",
       "      <td>PAYMENT</td>\n",
       "      <td>11668.14</td>\n",
       "      <td>C2048537720</td>\n",
       "      <td>41554.0</td>\n",
       "      <td>29885.86</td>\n",
       "      <td>M1230701703</td>\n",
       "      <td>0.0</td>\n",
       "      <td>0.0</td>\n",
       "      <td>0</td>\n",
       "      <td>0</td>\n",
       "    </tr>\n",
       "  </tbody>\n",
       "</table>\n",
       "</div>"
      ],
      "text/plain": [
       "   step      type    amount     nameOrig  oldbalanceOrg  newbalanceOrig  \\\n",
       "0     1   PAYMENT   9839.64  C1231006815       170136.0       160296.36   \n",
       "1     1   PAYMENT   1864.28  C1666544295        21249.0        19384.72   \n",
       "2     1  TRANSFER    181.00  C1305486145          181.0            0.00   \n",
       "3     1  CASH_OUT    181.00   C840083671          181.0            0.00   \n",
       "4     1   PAYMENT  11668.14  C2048537720        41554.0        29885.86   \n",
       "\n",
       "      nameDest  oldbalanceDest  newbalanceDest  isFraud  isFlaggedFraud  \n",
       "0  M1979787155             0.0             0.0        0               0  \n",
       "1  M2044282225             0.0             0.0        0               0  \n",
       "2   C553264065             0.0             0.0        1               0  \n",
       "3    C38997010         21182.0             0.0        1               0  \n",
       "4  M1230701703             0.0             0.0        0               0  "
      ]
     },
     "execution_count": 24,
     "metadata": {},
     "output_type": "execute_result"
    }
   ],
   "source": [
    "!gsutil cp gs://financial_fraud_detection/fraud_data_kaggle.csv .\n",
    "data = pd.read_csv('fraud_data_kaggle.csv')\n",
    "data.head()  "
   ]
  },
  {
   "cell_type": "code",
   "execution_count": 25,
   "metadata": {},
   "outputs": [],
   "source": [
    "fraud = data[data['isFraud'] == 1]\n",
    "not_fraud = data[data['isFraud'] == 0]\n",
    "# Take a random sample of non fraud rows\n",
    "not_fraud_sample = not_fraud.sample(random_state=2, frac=.005)\n",
    "\n",
    "# Put it back together and shuffle\n",
    "df = pd.concat([not_fraud_sample,fraud])\n",
    "df = shuffle(df, random_state=2)\n",
    "\n",
    "# Remove a few columns (isFraud is the label column we'll use, not isFlaggedFraud)\n",
    "df = df.drop(columns=['nameOrig', 'nameDest', 'isFlaggedFraud'])\n",
    "# Adding transaction id to identify back after prediction\n",
    "df['transactionId'] = [str(uuid.uuid4()) for _ in range(len(df.index))]\n",
    "# Preview the updated dataset\n",
    "df.head()\n",
    "train_test_split = int(len(df) * .8)\n",
    "\n",
    "train_set = df[:train_test_split]\n",
    "test_set = df[train_test_split:]\n",
    "\n",
    "train_labels = train_set.pop('isFraud')\n",
    "test_labels = test_set.pop('isFraud')"
   ]
  },
  {
   "cell_type": "code",
   "execution_count": 8,
   "metadata": {
    "collapsed": true,
    "jupyter": {
     "outputs_hidden": true
    }
   },
   "outputs": [],
   "source": [
    "fc = tf.feature_column\n",
    "CATEGORICAL_COLUMNS = ['type']\n",
    "NUMERIC_COLUMNS = ['step', 'amount', 'oldbalanceOrg', 'newbalanceOrig', 'oldbalanceDest', 'newbalanceDest']\n",
    "KEY_COLUMN = 'transactionId'\n",
    "def one_hot_cat_column(feature_name, vocab):\n",
    "    return tf.feature_column.indicator_column(tf.feature_column.categorical_column_with_vocabulary_list(feature_name, vocab))\n",
    "\n",
    "feature_columns = []\n",
    "\n",
    "for feature_name in CATEGORICAL_COLUMNS:\n",
    "    vocabulary = train_set[feature_name].unique()\n",
    "    feature_columns.append(one_hot_cat_column(feature_name, vocabulary))\n",
    "\n",
    "for feature_name in NUMERIC_COLUMNS:\n",
    "  feature_columns.append(tf.feature_column.numeric_column(feature_name,\n",
    "                                           dtype=tf.float32))\n"
   ]
  },
  {
   "cell_type": "code",
   "execution_count": 9,
   "metadata": {
    "collapsed": true,
    "jupyter": {
     "outputs_hidden": true
    }
   },
   "outputs": [],
   "source": [
    "NUM_EXAMPLES = len(train_labels)\n",
    "def make_input_fn(X, y, n_epochs=None, shuffle=True):\n",
    "  def input_fn():\n",
    "    dataset = tf.data.Dataset.from_tensor_slices((dict(X), y))\n",
    "    if shuffle:\n",
    "      dataset = dataset.shuffle(NUM_EXAMPLES)\n",
    "    dataset = dataset.repeat(n_epochs)\n",
    "    dataset = dataset.batch(NUM_EXAMPLES)\n",
    "    return dataset\n",
    "  return input_fn\n",
    "\n",
    "# Define training and evaluation input functions\n",
    "train_input_fn = make_input_fn(train_set, train_labels)\n",
    "eval_input_fn = make_input_fn(test_set, test_labels, shuffle=False, n_epochs=1)"
   ]
  },
  {
   "cell_type": "code",
   "execution_count": 10,
   "metadata": {
    "collapsed": true,
    "jupyter": {
     "outputs_hidden": true
    }
   },
   "outputs": [
    {
     "name": "stdout",
     "output_type": "stream",
     "text": [
      "INFO:tensorflow:Using default config.\n",
      "WARNING:tensorflow:Using temporary folder as model directory: /tmp/tmpgxzip7p8\n",
      "INFO:tensorflow:Using config: {'_model_dir': '/tmp/tmpgxzip7p8', '_tf_random_seed': None, '_save_summary_steps': 100, '_save_checkpoints_steps': None, '_save_checkpoints_secs': 600, '_session_config': allow_soft_placement: true\n",
      "graph_options {\n",
      "  rewrite_options {\n",
      "    meta_optimizer_iterations: ONE\n",
      "  }\n",
      "}\n",
      ", '_keep_checkpoint_max': 5, '_keep_checkpoint_every_n_hours': 10000, '_log_step_count_steps': 100, '_train_distribute': None, '_device_fn': None, '_protocol': None, '_eval_distribute': None, '_experimental_distribute': None, '_experimental_max_worker_delay_secs': None, '_session_creation_timeout_secs': 7200, '_service': None, '_cluster_spec': <tensorflow.python.training.server_lib.ClusterSpec object at 0x7f1a7b996910>, '_task_type': 'worker', '_task_id': 0, '_global_id_in_cluster': 0, '_master': '', '_evaluation_master': '', '_is_chief': True, '_num_ps_replicas': 0, '_num_worker_replicas': 1}\n",
      "WARNING:tensorflow:From /opt/conda/lib/python3.7/site-packages/tensorflow_estimator/python/estimator/canned/boosted_trees.py:369: VocabularyListCategoricalColumn._num_buckets (from tensorflow.python.feature_column.feature_column_v2) is deprecated and will be removed in a future version.\n",
      "Instructions for updating:\n",
      "The old _FeatureColumn APIs are being deprecated. Please use the new FeatureColumn APIs instead.\n",
      "WARNING:tensorflow:\n",
      "The TensorFlow contrib module will not be included in TensorFlow 2.0.\n",
      "For more information, please see:\n",
      "  * https://github.com/tensorflow/community/blob/master/rfcs/20180907-contrib-sunset.md\n",
      "  * https://github.com/tensorflow/addons\n",
      "  * https://github.com/tensorflow/io (for I/O related ops)\n",
      "If you depend on functionality not listed there, please file an issue.\n",
      "\n",
      "INFO:tensorflow:Using config: {'_model_dir': '/tmp/tmpgxzip7p8', '_tf_random_seed': None, '_save_summary_steps': 100, '_save_checkpoints_steps': None, '_save_checkpoints_secs': 600, '_session_config': allow_soft_placement: true\n",
      "graph_options {\n",
      "  rewrite_options {\n",
      "    meta_optimizer_iterations: ONE\n",
      "  }\n",
      "}\n",
      ", '_keep_checkpoint_max': 5, '_keep_checkpoint_every_n_hours': 10000, '_log_step_count_steps': 100, '_train_distribute': None, '_device_fn': None, '_protocol': None, '_eval_distribute': None, '_experimental_distribute': None, '_experimental_max_worker_delay_secs': None, '_session_creation_timeout_secs': 7200, '_service': None, '_cluster_spec': <tensorflow.python.training.server_lib.ClusterSpec object at 0x7f1a9f0e0b10>, '_task_type': 'worker', '_task_id': 0, '_global_id_in_cluster': 0, '_master': '', '_evaluation_master': '', '_is_chief': True, '_num_ps_replicas': 0, '_num_worker_replicas': 1}\n"
     ]
    }
   ],
   "source": [
    "n_batches = 1\n",
    "model = tf.estimator.BoostedTreesClassifier(feature_columns,\n",
    "                                          n_batches_per_layer=n_batches)\n",
    "model = tf.contrib.estimator.forward_features(model,KEY_COLUMN)"
   ]
  },
  {
   "cell_type": "code",
   "execution_count": 11,
   "metadata": {
    "collapsed": true,
    "jupyter": {
     "outputs_hidden": true
    }
   },
   "outputs": [
    {
     "name": "stdout",
     "output_type": "stream",
     "text": [
      "WARNING:tensorflow:From /opt/conda/lib/python3.7/site-packages/tensorflow_core/python/ops/resource_variable_ops.py:1630: calling BaseResourceVariable.__init__ (from tensorflow.python.ops.resource_variable_ops) with constraint is deprecated and will be removed in a future version.\n",
      "Instructions for updating:\n",
      "If using Keras pass *_constraint arguments to layers.\n",
      "WARNING:tensorflow:From /opt/conda/lib/python3.7/site-packages/tensorflow_core/python/training/training_util.py:236: Variable.initialized_value (from tensorflow.python.ops.variables) is deprecated and will be removed in a future version.\n",
      "Instructions for updating:\n",
      "Use Variable.read_value. Variables in 2.X are initialized automatically both in eager and graph (inside tf.defun) contexts.\n",
      "INFO:tensorflow:Calling model_fn.\n",
      "INFO:tensorflow:Calling model_fn.\n",
      "WARNING:tensorflow:From /opt/conda/lib/python3.7/site-packages/tensorflow_core/python/feature_column/feature_column_v2.py:4271: IndicatorColumn._variable_shape (from tensorflow.python.feature_column.feature_column_v2) is deprecated and will be removed in a future version.\n",
      "Instructions for updating:\n",
      "The old _FeatureColumn APIs are being deprecated. Please use the new FeatureColumn APIs instead.\n",
      "WARNING:tensorflow:From /opt/conda/lib/python3.7/site-packages/tensorflow_estimator/python/estimator/canned/boosted_trees.py:214: to_int32 (from tensorflow.python.ops.math_ops) is deprecated and will be removed in a future version.\n",
      "Instructions for updating:\n",
      "Use `tf.cast` instead.\n",
      "WARNING:tensorflow:From /opt/conda/lib/python3.7/site-packages/tensorflow_estimator/python/estimator/canned/head.py:437: to_float (from tensorflow.python.ops.math_ops) is deprecated and will be removed in a future version.\n",
      "Instructions for updating:\n",
      "Use `tf.cast` instead.\n",
      "WARNING:tensorflow:From /opt/conda/lib/python3.7/site-packages/tensorflow_core/python/ops/nn_impl.py:183: where (from tensorflow.python.ops.array_ops) is deprecated and will be removed in a future version.\n",
      "Instructions for updating:\n",
      "Use tf.where in 2.0, which has the same broadcast rule as np.where\n",
      "INFO:tensorflow:Done calling model_fn.\n",
      "INFO:tensorflow:Done calling model_fn.\n",
      "INFO:tensorflow:Create CheckpointSaverHook.\n",
      "WARNING:tensorflow:Issue encountered when serializing resources.\n",
      "Type is unsupported, or the types of the items don't match field type in CollectionDef. Note this is a warning and probably safe to ignore.\n",
      "'_Resource' object has no attribute 'name'\n",
      "INFO:tensorflow:Graph was finalized.\n",
      "INFO:tensorflow:Running local_init_op.\n",
      "INFO:tensorflow:Done running local_init_op.\n",
      "WARNING:tensorflow:Issue encountered when serializing resources.\n",
      "Type is unsupported, or the types of the items don't match field type in CollectionDef. Note this is a warning and probably safe to ignore.\n",
      "'_Resource' object has no attribute 'name'\n",
      "INFO:tensorflow:Saving checkpoints for 0 into /tmp/tmpgxzip7p8/model.ckpt.\n",
      "WARNING:tensorflow:Issue encountered when serializing resources.\n",
      "Type is unsupported, or the types of the items don't match field type in CollectionDef. Note this is a warning and probably safe to ignore.\n",
      "'_Resource' object has no attribute 'name'\n",
      "INFO:tensorflow:loss = 0.6931538, step = 0\n",
      "WARNING:tensorflow:It seems that global step (tf.train.get_global_step) has not been increased. Current value (could be stable): 0 vs previous value: 0. You could increase the global step by passing tf.train.get_global_step() to Optimizer.apply_gradients or Optimizer.minimize.\n",
      "INFO:tensorflow:global_step/sec: 1.59148\n",
      "INFO:tensorflow:loss = 0.023061974, step = 99 (62.836 sec)\n",
      "INFO:tensorflow:Saving checkpoints for 100 into /tmp/tmpgxzip7p8/model.ckpt.\n",
      "WARNING:tensorflow:Issue encountered when serializing resources.\n",
      "Type is unsupported, or the types of the items don't match field type in CollectionDef. Note this is a warning and probably safe to ignore.\n",
      "'_Resource' object has no attribute 'name'\n",
      "INFO:tensorflow:Loss for final step: 0.023061974.\n"
     ]
    },
    {
     "data": {
      "text/plain": [
       "<tensorflow_estimator.python.estimator.estimator.Estimator at 0x7f1a7b996710>"
      ]
     },
     "execution_count": 11,
     "metadata": {},
     "output_type": "execute_result"
    }
   ],
   "source": [
    "model.train(train_input_fn, max_steps=100)\n"
   ]
  },
  {
   "cell_type": "code",
   "execution_count": 12,
   "metadata": {
    "collapsed": true,
    "jupyter": {
     "outputs_hidden": true
    }
   },
   "outputs": [
    {
     "name": "stdout",
     "output_type": "stream",
     "text": [
      "INFO:tensorflow:Calling model_fn.\n",
      "INFO:tensorflow:Calling model_fn.\n",
      "WARNING:tensorflow:From /opt/conda/lib/python3.7/site-packages/tensorflow_core/python/ops/metrics_impl.py:2026: div (from tensorflow.python.ops.math_ops) is deprecated and will be removed in a future version.\n",
      "Instructions for updating:\n",
      "Deprecated in favor of operator or tf.math.divide.\n",
      "WARNING:tensorflow:Trapezoidal rule is known to produce incorrect PR-AUCs; please switch to \"careful_interpolation\" instead.\n",
      "WARNING:tensorflow:Trapezoidal rule is known to produce incorrect PR-AUCs; please switch to \"careful_interpolation\" instead.\n",
      "INFO:tensorflow:Done calling model_fn.\n",
      "INFO:tensorflow:Done calling model_fn.\n",
      "INFO:tensorflow:Starting evaluation at 2020-05-18T12:55:17Z\n",
      "INFO:tensorflow:Graph was finalized.\n",
      "INFO:tensorflow:Restoring parameters from /tmp/tmpgxzip7p8/model.ckpt-100\n",
      "INFO:tensorflow:Running local_init_op.\n",
      "INFO:tensorflow:Done running local_init_op.\n",
      "INFO:tensorflow:Finished evaluation at 2020-05-18-12:55:19\n",
      "INFO:tensorflow:Saving dict for global step 100: accuracy = 0.99374765, accuracy_baseline = 0.8006753, auc = 0.99866736, auc_precision_recall = 0.9978666, average_loss = 0.025304431, global_step = 100, label/mean = 0.19932474, loss = 0.025304431, precision = 0.9759556, prediction/mean = 0.20034805, recall = 0.9930991\n",
      "WARNING:tensorflow:Issue encountered when serializing resources.\n",
      "Type is unsupported, or the types of the items don't match field type in CollectionDef. Note this is a warning and probably safe to ignore.\n",
      "'_Resource' object has no attribute 'name'\n",
      "INFO:tensorflow:Saving 'checkpoint_path' summary for global step 100: /tmp/tmpgxzip7p8/model.ckpt-100\n",
      "accuracy                  0.993748\n",
      "accuracy_baseline         0.800675\n",
      "auc                       0.998667\n",
      "auc_precision_recall      0.997867\n",
      "average_loss              0.025304\n",
      "label/mean                0.199325\n",
      "loss                      0.025304\n",
      "precision                 0.975956\n",
      "prediction/mean           0.200348\n",
      "recall                    0.993099\n",
      "global_step             100.000000\n",
      "dtype: float64\n"
     ]
    }
   ],
   "source": [
    "result = model.evaluate(eval_input_fn)\n",
    "print(pd.Series(result))"
   ]
  },
  {
   "cell_type": "code",
   "execution_count": 13,
   "metadata": {
    "collapsed": true,
    "jupyter": {
     "outputs_hidden": true
    }
   },
   "outputs": [
    {
     "name": "stdout",
     "output_type": "stream",
     "text": [
      "INFO:tensorflow:Calling model_fn.\n",
      "INFO:tensorflow:Calling model_fn.\n",
      "INFO:tensorflow:Done calling model_fn.\n",
      "INFO:tensorflow:Done calling model_fn.\n",
      "INFO:tensorflow:Graph was finalized.\n",
      "INFO:tensorflow:Restoring parameters from /tmp/tmpgxzip7p8/model.ckpt-100\n",
      "INFO:tensorflow:Running local_init_op.\n",
      "INFO:tensorflow:Done running local_init_op.\n",
      "Predicted:  0 Actual:  0\n",
      "\n",
      "Predicted:  1 Actual:  1\n",
      "\n",
      "Predicted:  0 Actual:  0\n",
      "\n",
      "Predicted:  0 Actual:  0\n",
      "\n",
      "Predicted:  0 Actual:  0\n",
      "\n",
      "Predicted:  0 Actual:  0\n",
      "\n",
      "Predicted:  0 Actual:  0\n",
      "\n",
      "Predicted:  0 Actual:  0\n",
      "\n",
      "Predicted:  0 Actual:  0\n",
      "\n",
      "Predicted:  0 Actual:  0\n",
      "\n",
      "Predicted:  0 Actual:  0\n",
      "\n",
      "Predicted:  0 Actual:  0\n",
      "\n",
      "Predicted:  0 Actual:  0\n",
      "\n",
      "Predicted:  0 Actual:  0\n",
      "\n",
      "Predicted:  0 Actual:  0\n",
      "\n",
      "Predicted:  0 Actual:  0\n",
      "\n",
      "Predicted:  0 Actual:  0\n",
      "\n",
      "Predicted:  0 Actual:  0\n",
      "\n",
      "Predicted:  0 Actual:  0\n",
      "\n",
      "Predicted:  1 Actual:  1\n",
      "\n",
      "Predicted:  0 Actual:  0\n",
      "\n",
      "Predicted:  0 Actual:  0\n",
      "\n",
      "Predicted:  0 Actual:  0\n",
      "\n",
      "Predicted:  0 Actual:  0\n",
      "\n",
      "Predicted:  1 Actual:  1\n",
      "\n",
      "Predicted:  0 Actual:  0\n",
      "\n",
      "Predicted:  0 Actual:  0\n",
      "\n",
      "Predicted:  0 Actual:  0\n",
      "\n",
      "Predicted:  0 Actual:  0\n",
      "\n",
      "Predicted:  0 Actual:  0\n",
      "\n"
     ]
    }
   ],
   "source": [
    "pred_dicts = list(model.predict(eval_input_fn))\n",
    "probabilities = pd.Series([pred['logistic'][0] for pred in pred_dicts])\n",
    "\n",
    "for i,val in enumerate(probabilities[:30]):\n",
    "  print('Predicted: ', round(val), 'Actual: ', test_labels.iloc[i])\n",
    "  print()"
   ]
  },
  {
   "cell_type": "code",
   "execution_count": 14,
   "metadata": {
    "collapsed": true,
    "jupyter": {
     "outputs_hidden": true
    }
   },
   "outputs": [],
   "source": [
    "GCP_PROJECT = 'next-demo-2020'\n",
    "MODEL_BUCKET = 'gs://credit-card-fraud-detection-tf-model'"
   ]
  },
  {
   "cell_type": "code",
   "execution_count": 15,
   "metadata": {
    "collapsed": true,
    "jupyter": {
     "outputs_hidden": true
    }
   },
   "outputs": [
    {
     "name": "stdout",
     "output_type": "stream",
     "text": [
      "INFO:tensorflow:Calling model_fn.\n",
      "INFO:tensorflow:Calling model_fn.\n",
      "INFO:tensorflow:Done calling model_fn.\n",
      "INFO:tensorflow:Done calling model_fn.\n",
      "WARNING:tensorflow:From /opt/conda/lib/python3.7/site-packages/tensorflow_core/python/saved_model/signature_def_utils_impl.py:201: build_tensor_info (from tensorflow.python.saved_model.utils_impl) is deprecated and will be removed in a future version.\n",
      "Instructions for updating:\n",
      "This function will only be available through the v1 compatibility library as tf.compat.v1.saved_model.utils.build_tensor_info or tf.compat.v1.saved_model.build_tensor_info.\n",
      "INFO:tensorflow:Signatures INCLUDED in export for Classify: None\n",
      "INFO:tensorflow:Signatures INCLUDED in export for Regress: None\n",
      "INFO:tensorflow:Signatures INCLUDED in export for Predict: ['predict']\n",
      "INFO:tensorflow:Signatures INCLUDED in export for Train: None\n",
      "INFO:tensorflow:Signatures INCLUDED in export for Eval: None\n",
      "INFO:tensorflow:Signatures EXCLUDED from export because they cannot be be served via TensorFlow Serving APIs:\n",
      "INFO:tensorflow:'serving_default' : Classification input must be a single string Tensor; got {'type': <tf.Tensor 'Placeholder:0' shape=(?,) dtype=string>, 'step': <tf.Tensor 'Placeholder_1:0' shape=(?,) dtype=float32>, 'amount': <tf.Tensor 'Placeholder_2:0' shape=(?,) dtype=float32>, 'oldbalanceOrg': <tf.Tensor 'Placeholder_3:0' shape=(?,) dtype=float32>, 'newbalanceOrig': <tf.Tensor 'Placeholder_4:0' shape=(?,) dtype=float32>, 'oldbalanceDest': <tf.Tensor 'Placeholder_5:0' shape=(?,) dtype=float32>, 'newbalanceDest': <tf.Tensor 'Placeholder_6:0' shape=(?,) dtype=float32>, 'transactionId': <tf.Tensor 'PlaceholderWithDefault:0' shape=(?,) dtype=string>}\n",
      "INFO:tensorflow:'classification' : Classification input must be a single string Tensor; got {'type': <tf.Tensor 'Placeholder:0' shape=(?,) dtype=string>, 'step': <tf.Tensor 'Placeholder_1:0' shape=(?,) dtype=float32>, 'amount': <tf.Tensor 'Placeholder_2:0' shape=(?,) dtype=float32>, 'oldbalanceOrg': <tf.Tensor 'Placeholder_3:0' shape=(?,) dtype=float32>, 'newbalanceOrig': <tf.Tensor 'Placeholder_4:0' shape=(?,) dtype=float32>, 'oldbalanceDest': <tf.Tensor 'Placeholder_5:0' shape=(?,) dtype=float32>, 'newbalanceDest': <tf.Tensor 'Placeholder_6:0' shape=(?,) dtype=float32>, 'transactionId': <tf.Tensor 'PlaceholderWithDefault:0' shape=(?,) dtype=string>}\n",
      "INFO:tensorflow:'regression' : Regression input must be a single string Tensor; got {'type': <tf.Tensor 'Placeholder:0' shape=(?,) dtype=string>, 'step': <tf.Tensor 'Placeholder_1:0' shape=(?,) dtype=float32>, 'amount': <tf.Tensor 'Placeholder_2:0' shape=(?,) dtype=float32>, 'oldbalanceOrg': <tf.Tensor 'Placeholder_3:0' shape=(?,) dtype=float32>, 'newbalanceOrig': <tf.Tensor 'Placeholder_4:0' shape=(?,) dtype=float32>, 'oldbalanceDest': <tf.Tensor 'Placeholder_5:0' shape=(?,) dtype=float32>, 'newbalanceDest': <tf.Tensor 'Placeholder_6:0' shape=(?,) dtype=float32>, 'transactionId': <tf.Tensor 'PlaceholderWithDefault:0' shape=(?,) dtype=string>}\n",
      "WARNING:tensorflow:Export includes no default signature!\n",
      "INFO:tensorflow:Restoring parameters from /tmp/tmpgxzip7p8/model.ckpt-100\n",
      "INFO:tensorflow:Assets added to graph.\n",
      "INFO:tensorflow:No assets to write.\n",
      "WARNING:tensorflow:Issue encountered when serializing resources.\n",
      "Type is unsupported, or the types of the items don't match field type in CollectionDef. Note this is a warning and probably safe to ignore.\n",
      "'_Resource' object has no attribute 'name'\n",
      "INFO:tensorflow:SavedModel written to: gs://credit-card-fraud-detection-tf-model/explanations-with-key/temp-b'1589806543'/saved_model.pb\n"
     ]
    }
   ],
   "source": [
    "def json_serving_input_fn():\n",
    "    feature_placeholders = {\n",
    "        'type': tf.placeholder(tf.string, [None]),\n",
    "        'step': tf.placeholder(tf.float32, [None]),\n",
    "        'amount': tf.placeholder(tf.float32, [None]),\n",
    "        'oldbalanceOrg': tf.placeholder(tf.float32, [None]),\n",
    "        'newbalanceOrig': tf.placeholder(tf.float32, [None]),\n",
    "        'oldbalanceDest': tf.placeholder(tf.float32, [None]),\n",
    "        'newbalanceDest': tf.placeholder(tf.float32, [None]),\n",
    "         KEY_COLUMN: tf.placeholder_with_default(tf.constant(['nokey']), [None])\n",
    "    }\n",
    "    features = {key: tf.expand_dims(tensor, -1)\n",
    "                for key, tensor in feature_placeholders.items()}\n",
    "    return tf.estimator.export.ServingInputReceiver(features,feature_placeholders)\n",
    "export_path = model.export_saved_model(\n",
    "    MODEL_BUCKET + '/explanations-with-key',\n",
    "    serving_input_receiver_fn=json_serving_input_fn\n",
    ").decode('utf-8')"
   ]
  },
  {
   "cell_type": "code",
   "execution_count": 16,
   "metadata": {
    "collapsed": true,
    "jupyter": {
     "outputs_hidden": true
    }
   },
   "outputs": [
    {
     "name": "stdout",
     "output_type": "stream",
     "text": [
      "\n",
      "MetaGraphDef with tag-set: 'serve' contains the following SignatureDefs:\n",
      "\n",
      "signature_def['predict']:\n",
      "  The given SavedModel SignatureDef contains the following input(s):\n",
      "    inputs['amount'] tensor_info:\n",
      "        dtype: DT_FLOAT\n",
      "        shape: (-1)\n",
      "        name: Placeholder_2:0\n",
      "    inputs['newbalanceDest'] tensor_info:\n",
      "        dtype: DT_FLOAT\n",
      "        shape: (-1)\n",
      "        name: Placeholder_6:0\n",
      "    inputs['newbalanceOrig'] tensor_info:\n",
      "        dtype: DT_FLOAT\n",
      "        shape: (-1)\n",
      "        name: Placeholder_4:0\n",
      "    inputs['oldbalanceDest'] tensor_info:\n",
      "        dtype: DT_FLOAT\n",
      "        shape: (-1)\n",
      "        name: Placeholder_5:0\n",
      "    inputs['oldbalanceOrg'] tensor_info:\n",
      "        dtype: DT_FLOAT\n",
      "        shape: (-1)\n",
      "        name: Placeholder_3:0\n",
      "    inputs['step'] tensor_info:\n",
      "        dtype: DT_FLOAT\n",
      "        shape: (-1)\n",
      "        name: Placeholder_1:0\n",
      "    inputs['transactionId'] tensor_info:\n",
      "        dtype: DT_STRING\n",
      "        shape: (-1)\n",
      "        name: PlaceholderWithDefault:0\n",
      "    inputs['type'] tensor_info:\n",
      "        dtype: DT_STRING\n",
      "        shape: (-1)\n",
      "        name: Placeholder:0\n",
      "  The given SavedModel SignatureDef contains the following output(s):\n",
      "    outputs['all_class_ids'] tensor_info:\n",
      "        dtype: DT_INT32\n",
      "        shape: (-1, 2)\n",
      "        name: boosted_trees/head/predictions/Tile:0\n",
      "    outputs['all_classes'] tensor_info:\n",
      "        dtype: DT_STRING\n",
      "        shape: (-1, 2)\n",
      "        name: boosted_trees/head/predictions/Tile_1:0\n",
      "    outputs['class_ids'] tensor_info:\n",
      "        dtype: DT_INT64\n",
      "        shape: (-1, 1)\n",
      "        name: boosted_trees/head/predictions/ExpandDims:0\n",
      "    outputs['classes'] tensor_info:\n",
      "        dtype: DT_STRING\n",
      "        shape: (-1, 1)\n",
      "        name: boosted_trees/head/predictions/str_classes:0\n",
      "    outputs['logistic'] tensor_info:\n",
      "        dtype: DT_FLOAT\n",
      "        shape: (-1, 1)\n",
      "        name: boosted_trees/head/predictions/logistic:0\n",
      "    outputs['logits'] tensor_info:\n",
      "        dtype: DT_FLOAT\n",
      "        shape: (-1, 1)\n",
      "        name: boosted_trees/BoostedTreesPredict:0\n",
      "    outputs['probabilities'] tensor_info:\n",
      "        dtype: DT_FLOAT\n",
      "        shape: (-1, 2)\n",
      "        name: boosted_trees/head/predictions/probabilities:0\n",
      "    outputs['transactionId'] tensor_info:\n",
      "        dtype: DT_STRING\n",
      "        shape: (-1, 1)\n",
      "        name: ExpandDims_7:0\n",
      "  Method name is: tensorflow/serving/predict\n"
     ]
    }
   ],
   "source": [
    "!saved_model_cli show --dir $export_path --all"
   ]
  },
  {
   "cell_type": "code",
   "execution_count": 21,
   "metadata": {
    "collapsed": true,
    "jupyter": {
     "outputs_hidden": true
    }
   },
   "outputs": [],
   "source": [
    "MODEL = 'fraud_detection_with_key'\n",
    "VERSION = 'v1'"
   ]
  },
  {
   "cell_type": "code",
   "execution_count": 84,
   "metadata": {
    "collapsed": true,
    "jupyter": {
     "outputs_hidden": true
    }
   },
   "outputs": [
    {
     "name": "stdout",
     "output_type": "stream",
     "text": [
      "\u001b[1;33mWARNING:\u001b[0m Using endpoint [https://ml.googleapis.com/]\n",
      "Creating version (this might take a few minutes)......done.                    \n"
     ]
    }
   ],
   "source": [
    "!gcloud ai-platform models create $MODEL\n",
    "!gcloud beta ai-platform versions create $VERSION \\\n",
    "--model $MODEL \\\n",
    "--origin $export_path \\\n",
    "--runtime-version 1.15 \\\n",
    "--framework TENSORFLOW \\\n",
    "--python-version 3.7 \\\n",
    "--machine-type n1-standard-4 \\\n",
    "--num-paths 10"
   ]
  },
  {
   "cell_type": "code",
   "execution_count": 85,
   "metadata": {
    "collapsed": true,
    "jupyter": {
     "outputs_hidden": true
    }
   },
   "outputs": [
    {
     "name": "stdout",
     "output_type": "stream",
     "text": [
      "\u001b[1;33mWARNING:\u001b[0m Using endpoint [https://ml.googleapis.com/]\n",
      "createTime: '2020-05-18T01:47:57Z'\n",
      "deploymentUri: gs://credit-card-fraud-detection-tf-model/explanations-with-key/1589766342\n",
      "etag: ciscgfdz0xM=\n",
      "framework: TENSORFLOW\n",
      "isDefault: true\n",
      "machineType: n1-standard-4\n",
      "name: projects/next-demo-2020/models/fraud_detection_with_key/versions/v1\n",
      "pythonVersion: '3.7'\n",
      "runtimeVersion: '1.15'\n",
      "state: READY\n"
     ]
    }
   ],
   "source": [
    "!gcloud ai-platform versions describe $VERSION --model $MODEL"
   ]
  },
  {
   "cell_type": "code",
   "execution_count": 17,
   "metadata": {
    "collapsed": true,
    "jupyter": {
     "outputs_hidden": true
    }
   },
   "outputs": [],
   "source": [
    "fraud_indices = []\n",
    "\n",
    "for i,val in enumerate(test_labels):\n",
    "    if val == 1:\n",
    "        fraud_indices.append(i)"
   ]
  },
  {
   "cell_type": "code",
   "execution_count": 18,
   "metadata": {
    "collapsed": true,
    "jupyter": {
     "outputs_hidden": true
    }
   },
   "outputs": [
    {
     "name": "stdout",
     "output_type": "stream",
     "text": [
      "{'step': 476, 'type': 'TRANSFER', 'amount': 1048.63, 'oldbalanceOrg': 1048.63, 'newbalanceOrig': 0.0, 'oldbalanceDest': 0.0, 'newbalanceDest': 0.0, 'transactionId': '1eee7190-7eb4-4af2-89b4-fee5e6a9e33f'}\n",
      "{'step': 390, 'type': 'TRANSFER', 'amount': 638693.49, 'oldbalanceOrg': 638693.49, 'newbalanceOrig': 0.0, 'oldbalanceDest': 0.0, 'newbalanceDest': 0.0, 'transactionId': 'dc417f1b-6224-4255-8898-a69044096f02'}\n",
      "{'step': 355, 'type': 'CASH_OUT', 'amount': 5338162.8, 'oldbalanceOrg': 5338162.8, 'newbalanceOrig': 0.0, 'oldbalanceDest': 181895.58, 'newbalanceDest': 5520058.37, 'transactionId': 'e46d8228-97e7-467b-8411-ca83ae5bb0d0'}\n",
      "{'step': 356, 'type': 'TRANSFER', 'amount': 357226.8, 'oldbalanceOrg': 357226.8, 'newbalanceOrig': 0.0, 'oldbalanceDest': 0.0, 'newbalanceDest': 0.0, 'transactionId': '5275f001-cbc6-41a9-9903-3b335c00167d'}\n",
      "{'step': 345, 'type': 'TRANSFER', 'amount': 128936.95, 'oldbalanceOrg': 128936.95, 'newbalanceOrig': 0.0, 'oldbalanceDest': 0.0, 'newbalanceDest': 0.0, 'transactionId': '0cbe3d43-b82f-4729-9216-d34276718264'}\n",
      "{'step': 374, 'type': 'CASH_OUT', 'amount': 243747.83, 'oldbalanceOrg': 243747.83, 'newbalanceOrig': 0.0, 'oldbalanceDest': 972569.6, 'newbalanceDest': 1216317.42, 'transactionId': 'a7472a93-cea6-41de-bb77-ed46df4d11ca'}\n",
      "{'step': 324, 'type': 'TRANSFER', 'amount': 21580.37, 'oldbalanceOrg': 21580.37, 'newbalanceOrig': 0.0, 'oldbalanceDest': 0.0, 'newbalanceDest': 0.0, 'transactionId': '27958e33-b4ea-4245-99c2-34baee2e8c6e'}\n",
      "{'step': 480, 'type': 'TRANSFER', 'amount': 644781.76, 'oldbalanceOrg': 644781.76, 'newbalanceOrig': 0.0, 'oldbalanceDest': 0.0, 'newbalanceDest': 0.0, 'transactionId': '79b8a941-c60f-4037-8239-03f615fdf254'}\n",
      "{'step': 92, 'type': 'TRANSFER', 'amount': 1461930.03, 'oldbalanceOrg': 1461930.03, 'newbalanceOrig': 0.0, 'oldbalanceDest': 0.0, 'newbalanceDest': 0.0, 'transactionId': 'ef8d5ce7-0d17-452b-bfe4-d63e072b032b'}\n",
      "{'step': 370, 'type': 'CASH_OUT', 'amount': 1822772.73, 'oldbalanceOrg': 1822772.73, 'newbalanceOrig': 0.0, 'oldbalanceDest': 0.0, 'newbalanceDest': 2004899.07, 'transactionId': '1365de96-770a-4303-be62-ecb4d0f445d6'}\n"
     ]
    }
   ],
   "source": [
    "num_test_examples = 10\n",
    "import numpy as np \n",
    "\n",
    "def convert(o):\n",
    "    if isinstance(o, np.generic): return o.item()  \n",
    "    raise TypeError\n",
    "\n",
    "for i in range(num_test_examples):\n",
    "    test_json = {}\n",
    "    ex = test_set.iloc[fraud_indices[i]]\n",
    "    keys = ex.keys().tolist()\n",
    "    vals = ex.values.tolist()\n",
    "    for idx in range(len(keys)):\n",
    "        test_json[keys[idx]] = vals[idx]\n",
    "\n",
    "    print(test_json)\n",
    "    with open('data.txt', 'a') as outfile:\n",
    "        json.dump(test_json, outfile, default=convert)\n",
    "        outfile.write('\\n')"
   ]
  },
  {
   "cell_type": "code",
   "execution_count": 23,
   "metadata": {},
   "outputs": [
    {
     "name": "stdout",
     "output_type": "stream",
     "text": [
      "{\"step\": 476, \"type\": \"TRANSFER\", \"amount\": 1048.63, \"oldbalanceOrg\": 1048.63, \"newbalanceOrig\": 0.0, \"oldbalanceDest\": 0.0, \"newbalanceDest\": 0.0, \"transactionId\": \"0\"}\n",
      "{\"step\": 476, \"type\": \"TRANSFER\", \"amount\": 1048.63, \"oldbalanceOrg\": 1048.63, \"newbalanceOrig\": 0.0, \"oldbalanceDest\": 0.0, \"newbalanceDest\": 0.0,\"transactionId\": \"1111\"}\n",
      "{\"step\": 476, \"type\": \"TRANSFER\", \"amount\": 1048.63, \"oldbalanceOrg\": 1048.63, \"newbalanceOrig\": 1048.63, \"oldbalanceDest\": 0.0, \"newbalanceDest\": 1048.63,\"transactionId\": \"1111\"}\n",
      "{\"step\": 476, \"type\": \"TRANSFER\", \"amount\": 1048.63, \"oldbalanceOrg\": 1048.63, \"newbalanceOrig\": 0.0, \"oldbalanceDest\": 0.0, \"newbalanceDest\": 0.0, \"transactionId\": \"1eee7190-7eb4-4af2-89b4-fee5e6a9e33f\"}\n",
      "{\"step\": 390, \"type\": \"TRANSFER\", \"amount\": 638693.49, \"oldbalanceOrg\": 638693.49, \"newbalanceOrig\": 0.0, \"oldbalanceDest\": 0.0, \"newbalanceDest\": 0.0, \"transactionId\": \"dc417f1b-6224-4255-8898-a69044096f02\"}\n",
      "{\"step\": 355, \"type\": \"CASH_OUT\", \"amount\": 5338162.8, \"oldbalanceOrg\": 5338162.8, \"newbalanceOrig\": 0.0, \"oldbalanceDest\": 181895.58, \"newbalanceDest\": 5520058.37, \"transactionId\": \"e46d8228-97e7-467b-8411-ca83ae5bb0d0\"}\n",
      "{\"step\": 356, \"type\": \"TRANSFER\", \"amount\": 357226.8, \"oldbalanceOrg\": 357226.8, \"newbalanceOrig\": 0.0, \"oldbalanceDest\": 0.0, \"newbalanceDest\": 0.0, \"transactionId\": \"5275f001-cbc6-41a9-9903-3b335c00167d\"}\n",
      "{\"step\": 345, \"type\": \"TRANSFER\", \"amount\": 128936.95, \"oldbalanceOrg\": 128936.95, \"newbalanceOrig\": 0.0, \"oldbalanceDest\": 0.0, \"newbalanceDest\": 0.0, \"transactionId\": \"0cbe3d43-b82f-4729-9216-d34276718264\"}\n",
      "{\"step\": 374, \"type\": \"CASH_OUT\", \"amount\": 243747.83, \"oldbalanceOrg\": 243747.83, \"newbalanceOrig\": 0.0, \"oldbalanceDest\": 972569.6, \"newbalanceDest\": 1216317.42, \"transactionId\": \"a7472a93-cea6-41de-bb77-ed46df4d11ca\"}\n",
      "{\"step\": 324, \"type\": \"TRANSFER\", \"amount\": 21580.37, \"oldbalanceOrg\": 21580.37, \"newbalanceOrig\": 0.0, \"oldbalanceDest\": 0.0, \"newbalanceDest\": 0.0, \"transactionId\": \"27958e33-b4ea-4245-99c2-34baee2e8c6e\"}\n",
      "{\"step\": 480, \"type\": \"TRANSFER\", \"amount\": 644781.76, \"oldbalanceOrg\": 644781.76, \"newbalanceOrig\": 0.0, \"oldbalanceDest\": 0.0, \"newbalanceDest\": 0.0, \"transactionId\": \"79b8a941-c60f-4037-8239-03f615fdf254\"}\n",
      "{\"step\": 92, \"type\": \"TRANSFER\", \"amount\": 1461930.03, \"oldbalanceOrg\": 1461930.03, \"newbalanceOrig\": 0.0, \"oldbalanceDest\": 0.0, \"newbalanceDest\": 0.0, \"transactionId\": \"ef8d5ce7-0d17-452b-bfe4-d63e072b032b\"}\n",
      "{\"step\": 370, \"type\": \"CASH_OUT\", \"amount\": 1822772.73, \"oldbalanceOrg\": 1822772.73, \"newbalanceOrig\": 0.0, \"oldbalanceDest\": 0.0, \"newbalanceDest\": 2004899.07, \"transactionId\": \"1365de96-770a-4303-be62-ecb4d0f445d6\"}\n"
     ]
    }
   ],
   "source": [
    "!cat data.txt"
   ]
  },
  {
   "cell_type": "code",
   "execution_count": 22,
   "metadata": {
    "collapsed": true,
    "jupyter": {
     "outputs_hidden": true
    }
   },
   "outputs": [
    {
     "name": "stdout",
     "output_type": "stream",
     "text": [
      "\u001b[1;33mWARNING:\u001b[0m Using endpoint [https://ml.googleapis.com/]\n",
      "ALL_CLASS_IDS  ALL_CLASSES   CLASS_IDS  CLASSES  LOGISTIC        LOGITS         PROBABILITIES                  TRANSACTION_ID\n",
      "[0, 1]         [u'0', u'1']  [1]        [u'1']   [0.988502502]   [4.45405817]   [0.0114975385, 0.988502502]    [u'0']\n",
      "[0, 1]         [u'0', u'1']  [1]        [u'1']   [0.988502502]   [4.45405817]   [0.0114975385, 0.988502502]    [u'1111']\n",
      "[0, 1]         [u'0', u'1']  [0]        [u'0']   [0.0222329199]  [-3.78369617]  [0.97776711, 0.0222329479]     [u'1111']\n",
      "[0, 1]         [u'0', u'1']  [1]        [u'1']   [0.988502502]   [4.45405817]   [0.0114975385, 0.988502502]    [u'1eee7190-7eb4-4af2-89b4-fee5e6a9e33f']\n",
      "[0, 1]         [u'0', u'1']  [1]        [u'1']   [0.997712731]   [6.07810307]   [0.00228727772, 0.997712731]   [u'dc417f1b-6224-4255-8898-a69044096f02']\n",
      "[0, 1]         [u'0', u'1']  [1]        [u'1']   [0.993289351]   [4.99732447]   [0.00671066204, 0.993289411]   [u'e46d8228-97e7-467b-8411-ca83ae5bb0d0']\n",
      "[0, 1]         [u'0', u'1']  [1]        [u'1']   [0.996889472]   [5.76985407]   [0.0031105075, 0.996889532]    [u'5275f001-cbc6-41a9-9903-3b335c00167d']\n",
      "[0, 1]         [u'0', u'1']  [1]        [u'1']   [0.992055357]   [4.82727861]   [0.00794466212, 0.992055357]   [u'0cbe3d43-b82f-4729-9216-d34276718264']\n",
      "[0, 1]         [u'0', u'1']  [1]        [u'1']   [0.83506608]    [1.621966]     [0.164933905, 0.83506608]      [u'a7472a93-cea6-41de-bb77-ed46df4d11ca']\n",
      "[0, 1]         [u'0', u'1']  [1]        [u'1']   [0.979288638]   [3.85614491]   [0.0207113419, 0.979288638]    [u'27958e33-b4ea-4245-99c2-34baee2e8c6e']\n",
      "[0, 1]         [u'0', u'1']  [1]        [u'1']   [0.999433577]   [7.47574615]   [0.000566341856, 0.999433577]  [u'79b8a941-c60f-4037-8239-03f615fdf254']\n",
      "[0, 1]         [u'0', u'1']  [1]        [u'1']   [0.999519706]   [7.64056]      [0.000480328366, 0.999519706]  [u'ef8d5ce7-0d17-452b-bfe4-d63e072b032b']\n",
      "[0, 1]         [u'0', u'1']  [1]        [u'1']   [0.993289411]   [4.99732447]   [0.00671066204, 0.993289411]   [u'1365de96-770a-4303-be62-ecb4d0f445d6']\n"
     ]
    }
   ],
   "source": [
    "!gcloud ai-platform predict --model $MODEL \\\n",
    "--version $VERSION \\\n",
    "--json-instances='data.txt' \\\n",
    "--signature-name='predict'"
   ]
  },
  {
   "cell_type": "code",
   "execution_count": null,
   "metadata": {
    "collapsed": true,
    "jupyter": {
     "outputs_hidden": true
    }
   },
   "outputs": [],
   "source": []
  }
 ],
 "metadata": {
  "environment": {
   "name": "tf-gpu.1-15.m46",
   "type": "gcloud",
   "uri": "gcr.io/deeplearning-platform-release/tf-gpu.1-15:m46"
  },
  "kernelspec": {
   "display_name": "Python 3",
   "language": "python",
   "name": "python3"
  },
  "language_info": {
   "codemirror_mode": {
    "name": "ipython",
    "version": 3
   },
   "file_extension": ".py",
   "mimetype": "text/x-python",
   "name": "python",
   "nbconvert_exporter": "python",
   "pygments_lexer": "ipython3",
   "version": "3.7.6"
  }
 },
 "nbformat": 4,
 "nbformat_minor": 4
}
